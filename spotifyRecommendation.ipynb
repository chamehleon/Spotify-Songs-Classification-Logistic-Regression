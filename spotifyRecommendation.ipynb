{
 "cells": [
  {
   "cell_type": "code",
   "execution_count": 63,
   "metadata": {},
   "outputs": [],
   "source": [
    "import pandas as pd\n",
    "import numpy as np\n",
    "# data understanding libraries\n",
    "import matplotlib.pyplot as plt # ploting library\n",
    "%matplotlib inline\n",
    "from collections import Counter"
   ]
  },
  {
   "cell_type": "code",
   "execution_count": 64,
   "metadata": {},
   "outputs": [
    {
     "data": {
      "text/html": [
       "<div>\n",
       "<style scoped>\n",
       "    .dataframe tbody tr th:only-of-type {\n",
       "        vertical-align: middle;\n",
       "    }\n",
       "\n",
       "    .dataframe tbody tr th {\n",
       "        vertical-align: top;\n",
       "    }\n",
       "\n",
       "    .dataframe thead th {\n",
       "        text-align: right;\n",
       "    }\n",
       "</style>\n",
       "<table border=\"1\" class=\"dataframe\">\n",
       "  <thead>\n",
       "    <tr style=\"text-align: right;\">\n",
       "      <th></th>\n",
       "      <th>danceability</th>\n",
       "      <th>energy</th>\n",
       "      <th>key</th>\n",
       "      <th>loudness</th>\n",
       "      <th>mode</th>\n",
       "      <th>speechiness</th>\n",
       "      <th>acousticness</th>\n",
       "      <th>instrumentalness</th>\n",
       "      <th>liveness</th>\n",
       "      <th>valence</th>\n",
       "      <th>tempo</th>\n",
       "      <th>duration_ms</th>\n",
       "      <th>time_signature</th>\n",
       "      <th>liked</th>\n",
       "    </tr>\n",
       "  </thead>\n",
       "  <tbody>\n",
       "    <tr>\n",
       "      <th>0</th>\n",
       "      <td>0.803</td>\n",
       "      <td>0.6240</td>\n",
       "      <td>7</td>\n",
       "      <td>-6.764</td>\n",
       "      <td>0</td>\n",
       "      <td>0.0477</td>\n",
       "      <td>0.451</td>\n",
       "      <td>0.000734</td>\n",
       "      <td>0.1000</td>\n",
       "      <td>0.6280</td>\n",
       "      <td>95.968</td>\n",
       "      <td>304524</td>\n",
       "      <td>4</td>\n",
       "      <td>0</td>\n",
       "    </tr>\n",
       "    <tr>\n",
       "      <th>1</th>\n",
       "      <td>0.762</td>\n",
       "      <td>0.7030</td>\n",
       "      <td>10</td>\n",
       "      <td>-7.951</td>\n",
       "      <td>0</td>\n",
       "      <td>0.3060</td>\n",
       "      <td>0.206</td>\n",
       "      <td>0.000000</td>\n",
       "      <td>0.0912</td>\n",
       "      <td>0.5190</td>\n",
       "      <td>151.329</td>\n",
       "      <td>247178</td>\n",
       "      <td>4</td>\n",
       "      <td>1</td>\n",
       "    </tr>\n",
       "    <tr>\n",
       "      <th>2</th>\n",
       "      <td>0.261</td>\n",
       "      <td>0.0149</td>\n",
       "      <td>1</td>\n",
       "      <td>-27.528</td>\n",
       "      <td>1</td>\n",
       "      <td>0.0419</td>\n",
       "      <td>0.992</td>\n",
       "      <td>0.897000</td>\n",
       "      <td>0.1020</td>\n",
       "      <td>0.0382</td>\n",
       "      <td>75.296</td>\n",
       "      <td>286987</td>\n",
       "      <td>4</td>\n",
       "      <td>0</td>\n",
       "    </tr>\n",
       "    <tr>\n",
       "      <th>3</th>\n",
       "      <td>0.722</td>\n",
       "      <td>0.7360</td>\n",
       "      <td>3</td>\n",
       "      <td>-6.994</td>\n",
       "      <td>0</td>\n",
       "      <td>0.0585</td>\n",
       "      <td>0.431</td>\n",
       "      <td>0.000001</td>\n",
       "      <td>0.1230</td>\n",
       "      <td>0.5820</td>\n",
       "      <td>89.860</td>\n",
       "      <td>208920</td>\n",
       "      <td>4</td>\n",
       "      <td>1</td>\n",
       "    </tr>\n",
       "    <tr>\n",
       "      <th>4</th>\n",
       "      <td>0.787</td>\n",
       "      <td>0.5720</td>\n",
       "      <td>1</td>\n",
       "      <td>-7.516</td>\n",
       "      <td>1</td>\n",
       "      <td>0.2220</td>\n",
       "      <td>0.145</td>\n",
       "      <td>0.000000</td>\n",
       "      <td>0.0753</td>\n",
       "      <td>0.6470</td>\n",
       "      <td>155.117</td>\n",
       "      <td>179413</td>\n",
       "      <td>4</td>\n",
       "      <td>1</td>\n",
       "    </tr>\n",
       "  </tbody>\n",
       "</table>\n",
       "</div>"
      ],
      "text/plain": [
       "   danceability  energy  key  loudness  mode  speechiness  acousticness  \\\n",
       "0         0.803  0.6240    7    -6.764     0       0.0477         0.451   \n",
       "1         0.762  0.7030   10    -7.951     0       0.3060         0.206   \n",
       "2         0.261  0.0149    1   -27.528     1       0.0419         0.992   \n",
       "3         0.722  0.7360    3    -6.994     0       0.0585         0.431   \n",
       "4         0.787  0.5720    1    -7.516     1       0.2220         0.145   \n",
       "\n",
       "   instrumentalness  liveness  valence    tempo  duration_ms  time_signature  \\\n",
       "0          0.000734    0.1000   0.6280   95.968       304524               4   \n",
       "1          0.000000    0.0912   0.5190  151.329       247178               4   \n",
       "2          0.897000    0.1020   0.0382   75.296       286987               4   \n",
       "3          0.000001    0.1230   0.5820   89.860       208920               4   \n",
       "4          0.000000    0.0753   0.6470  155.117       179413               4   \n",
       "\n",
       "   liked  \n",
       "0      0  \n",
       "1      1  \n",
       "2      0  \n",
       "3      1  \n",
       "4      1  "
      ]
     },
     "execution_count": 64,
     "metadata": {},
     "output_type": "execute_result"
    }
   ],
   "source": [
    "df = pd.read_csv('data.csv')\n",
    "df.head()"
   ]
  },
  {
   "cell_type": "code",
   "execution_count": 65,
   "metadata": {},
   "outputs": [
    {
     "data": {
      "text/plain": [
       "danceability        0\n",
       "energy              0\n",
       "key                 0\n",
       "loudness            0\n",
       "mode                0\n",
       "speechiness         0\n",
       "acousticness        0\n",
       "instrumentalness    0\n",
       "liveness            0\n",
       "valence             0\n",
       "tempo               0\n",
       "duration_ms         0\n",
       "time_signature      0\n",
       "liked               0\n",
       "dtype: int64"
      ]
     },
     "execution_count": 65,
     "metadata": {},
     "output_type": "execute_result"
    }
   ],
   "source": [
    "df.isna().sum()"
   ]
  },
  {
   "cell_type": "code",
   "execution_count": 66,
   "metadata": {},
   "outputs": [
    {
     "name": "stdout",
     "output_type": "stream",
     "text": [
      "<class 'pandas.core.frame.DataFrame'>\n",
      "RangeIndex: 195 entries, 0 to 194\n",
      "Data columns (total 14 columns):\n",
      " #   Column            Non-Null Count  Dtype  \n",
      "---  ------            --------------  -----  \n",
      " 0   danceability      195 non-null    float64\n",
      " 1   energy            195 non-null    float64\n",
      " 2   key               195 non-null    int64  \n",
      " 3   loudness          195 non-null    float64\n",
      " 4   mode              195 non-null    int64  \n",
      " 5   speechiness       195 non-null    float64\n",
      " 6   acousticness      195 non-null    float64\n",
      " 7   instrumentalness  195 non-null    float64\n",
      " 8   liveness          195 non-null    float64\n",
      " 9   valence           195 non-null    float64\n",
      " 10  tempo             195 non-null    float64\n",
      " 11  duration_ms       195 non-null    int64  \n",
      " 12  time_signature    195 non-null    int64  \n",
      " 13  liked             195 non-null    int64  \n",
      "dtypes: float64(9), int64(5)\n",
      "memory usage: 21.5 KB\n"
     ]
    }
   ],
   "source": [
    "df.info()"
   ]
  },
  {
   "cell_type": "markdown",
   "metadata": {},
   "source": [
    "Data contains no null values, all categorical values are in int64 format.\n",
    "\n",
    "There are 195 records."
   ]
  },
  {
   "cell_type": "markdown",
   "metadata": {},
   "source": [
    "from sklearn.model_selection import train_test_split\n",
    "x = df.drop('liked',axis=1)\n",
    "y = df.liked\n",
    "train_data,test_data = train_test_split(df,test_size=0.2,random_state=1)"
   ]
  },
  {
   "cell_type": "markdown",
   "metadata": {},
   "source": [
    "The data is not skewed regarding number of liked and disliked songs"
   ]
  },
  {
   "cell_type": "markdown",
   "metadata": {},
   "source": [
    "# How many liked and disliked songs are there\n"
   ]
  },
  {
   "cell_type": "code",
   "execution_count": 67,
   "metadata": {},
   "outputs": [
    {
     "data": {
      "image/png": "[encoded data removed]",
      "text/plain": [
       "<Figure size 360x360 with 1 Axes>"
      ]
     },
     "metadata": {
      "needs_background": "light"
     },
     "output_type": "display_data"
    }
   ],
   "source": [
    "fig, ax = plt.subplots(figsize=(5,5)) # create the plot and specify the figure size\n",
    "plt.xlabel('Liked vs not liked songs') # specify the x labels\n",
    "plt.ylabel('Frequency') # specify the y labels\n",
    "plt.title('Frequency of liked and not liked songs') # specify the plot title\n",
    "plt.bar(df['liked'].unique(),df['liked'].value_counts()) # create a bar plot\n",
    "plt.xticks(rotation=80) # rotate the x labels\n",
    "plt.grid() # show the grid\n",
    "plt.show() # show the final plot"
   ]
  },
  {
   "cell_type": "markdown",
   "metadata": {},
   "source": [
    "The data is not skewed regarding number of liked and disliked songs"
   ]
  },
  {
   "cell_type": "code",
   "execution_count": 68,
   "metadata": {},
   "outputs": [
    {
     "data": {
      "text/html": [
       "<div>\n",
       "<style scoped>\n",
       "    .dataframe tbody tr th:only-of-type {\n",
       "        vertical-align: middle;\n",
       "    }\n",
       "\n",
       "    .dataframe tbody tr th {\n",
       "        vertical-align: top;\n",
       "    }\n",
       "\n",
       "    .dataframe thead th {\n",
       "        text-align: right;\n",
       "    }\n",
       "</style>\n",
       "<table border=\"1\" class=\"dataframe\">\n",
       "  <thead>\n",
       "    <tr style=\"text-align: right;\">\n",
       "      <th></th>\n",
       "      <th>danceability</th>\n",
       "      <th>energy</th>\n",
       "      <th>key</th>\n",
       "      <th>loudness</th>\n",
       "      <th>mode</th>\n",
       "      <th>speechiness</th>\n",
       "      <th>acousticness</th>\n",
       "      <th>instrumentalness</th>\n",
       "      <th>liveness</th>\n",
       "      <th>valence</th>\n",
       "      <th>tempo</th>\n",
       "      <th>duration_ms</th>\n",
       "      <th>time_signature</th>\n",
       "      <th>liked</th>\n",
       "    </tr>\n",
       "  </thead>\n",
       "  <tbody>\n",
       "    <tr>\n",
       "      <th>danceability</th>\n",
       "      <td>1.000000</td>\n",
       "      <td>0.137188</td>\n",
       "      <td>-0.063906</td>\n",
       "      <td>0.455078</td>\n",
       "      <td>0.043759</td>\n",
       "      <td>0.388596</td>\n",
       "      <td>-0.234176</td>\n",
       "      <td>-0.807053</td>\n",
       "      <td>-0.137069</td>\n",
       "      <td>0.612344</td>\n",
       "      <td>0.223522</td>\n",
       "      <td>-0.232621</td>\n",
       "      <td>0.317096</td>\n",
       "      <td>0.569425</td>\n",
       "    </tr>\n",
       "    <tr>\n",
       "      <th>energy</th>\n",
       "      <td>0.137188</td>\n",
       "      <td>1.000000</td>\n",
       "      <td>0.130251</td>\n",
       "      <td>0.813567</td>\n",
       "      <td>-0.068308</td>\n",
       "      <td>0.122825</td>\n",
       "      <td>-0.772583</td>\n",
       "      <td>-0.241444</td>\n",
       "      <td>0.166508</td>\n",
       "      <td>0.319409</td>\n",
       "      <td>0.214905</td>\n",
       "      <td>-0.134527</td>\n",
       "      <td>0.123942</td>\n",
       "      <td>0.176179</td>\n",
       "    </tr>\n",
       "    <tr>\n",
       "      <th>key</th>\n",
       "      <td>-0.063906</td>\n",
       "      <td>0.130251</td>\n",
       "      <td>1.000000</td>\n",
       "      <td>0.046865</td>\n",
       "      <td>-0.103371</td>\n",
       "      <td>-0.093395</td>\n",
       "      <td>-0.066844</td>\n",
       "      <td>0.003597</td>\n",
       "      <td>-0.039622</td>\n",
       "      <td>0.033336</td>\n",
       "      <td>0.097240</td>\n",
       "      <td>0.054522</td>\n",
       "      <td>0.048344</td>\n",
       "      <td>-0.044406</td>\n",
       "    </tr>\n",
       "    <tr>\n",
       "      <th>loudness</th>\n",
       "      <td>0.455078</td>\n",
       "      <td>0.813567</td>\n",
       "      <td>0.046865</td>\n",
       "      <td>1.000000</td>\n",
       "      <td>-0.041678</td>\n",
       "      <td>0.279710</td>\n",
       "      <td>-0.664989</td>\n",
       "      <td>-0.538266</td>\n",
       "      <td>0.078093</td>\n",
       "      <td>0.363532</td>\n",
       "      <td>0.274462</td>\n",
       "      <td>-0.206334</td>\n",
       "      <td>0.207806</td>\n",
       "      <td>0.410774</td>\n",
       "    </tr>\n",
       "    <tr>\n",
       "      <th>mode</th>\n",
       "      <td>0.043759</td>\n",
       "      <td>-0.068308</td>\n",
       "      <td>-0.103371</td>\n",
       "      <td>-0.041678</td>\n",
       "      <td>1.000000</td>\n",
       "      <td>0.031953</td>\n",
       "      <td>-0.025709</td>\n",
       "      <td>0.075442</td>\n",
       "      <td>-0.048661</td>\n",
       "      <td>0.033409</td>\n",
       "      <td>-0.036270</td>\n",
       "      <td>-0.060965</td>\n",
       "      <td>-0.110739</td>\n",
       "      <td>0.023747</td>\n",
       "    </tr>\n",
       "    <tr>\n",
       "      <th>speechiness</th>\n",
       "      <td>0.388596</td>\n",
       "      <td>0.122825</td>\n",
       "      <td>-0.093395</td>\n",
       "      <td>0.279710</td>\n",
       "      <td>0.031953</td>\n",
       "      <td>1.000000</td>\n",
       "      <td>-0.079710</td>\n",
       "      <td>-0.343242</td>\n",
       "      <td>-0.006665</td>\n",
       "      <td>0.180708</td>\n",
       "      <td>0.313918</td>\n",
       "      <td>-0.388397</td>\n",
       "      <td>0.140325</td>\n",
       "      <td>0.591505</td>\n",
       "    </tr>\n",
       "    <tr>\n",
       "      <th>acousticness</th>\n",
       "      <td>-0.234176</td>\n",
       "      <td>-0.772583</td>\n",
       "      <td>-0.066844</td>\n",
       "      <td>-0.664989</td>\n",
       "      <td>-0.025709</td>\n",
       "      <td>-0.079710</td>\n",
       "      <td>1.000000</td>\n",
       "      <td>0.294320</td>\n",
       "      <td>-0.140988</td>\n",
       "      <td>-0.313806</td>\n",
       "      <td>-0.255097</td>\n",
       "      <td>0.138793</td>\n",
       "      <td>-0.142177</td>\n",
       "      <td>-0.179375</td>\n",
       "    </tr>\n",
       "    <tr>\n",
       "      <th>instrumentalness</th>\n",
       "      <td>-0.807053</td>\n",
       "      <td>-0.241444</td>\n",
       "      <td>0.003597</td>\n",
       "      <td>-0.538266</td>\n",
       "      <td>0.075442</td>\n",
       "      <td>-0.343242</td>\n",
       "      <td>0.294320</td>\n",
       "      <td>1.000000</td>\n",
       "      <td>0.055730</td>\n",
       "      <td>-0.572224</td>\n",
       "      <td>-0.299493</td>\n",
       "      <td>0.249683</td>\n",
       "      <td>-0.375199</td>\n",
       "      <td>-0.569440</td>\n",
       "    </tr>\n",
       "    <tr>\n",
       "      <th>liveness</th>\n",
       "      <td>-0.137069</td>\n",
       "      <td>0.166508</td>\n",
       "      <td>-0.039622</td>\n",
       "      <td>0.078093</td>\n",
       "      <td>-0.048661</td>\n",
       "      <td>-0.006665</td>\n",
       "      <td>-0.140988</td>\n",
       "      <td>0.055730</td>\n",
       "      <td>1.000000</td>\n",
       "      <td>-0.013004</td>\n",
       "      <td>-0.010555</td>\n",
       "      <td>-0.143966</td>\n",
       "      <td>-0.135409</td>\n",
       "      <td>-0.009797</td>\n",
       "    </tr>\n",
       "    <tr>\n",
       "      <th>valence</th>\n",
       "      <td>0.612344</td>\n",
       "      <td>0.319409</td>\n",
       "      <td>0.033336</td>\n",
       "      <td>0.363532</td>\n",
       "      <td>0.033409</td>\n",
       "      <td>0.180708</td>\n",
       "      <td>-0.313806</td>\n",
       "      <td>-0.572224</td>\n",
       "      <td>-0.013004</td>\n",
       "      <td>1.000000</td>\n",
       "      <td>0.218017</td>\n",
       "      <td>-0.114842</td>\n",
       "      <td>0.201111</td>\n",
       "      <td>0.268653</td>\n",
       "    </tr>\n",
       "    <tr>\n",
       "      <th>tempo</th>\n",
       "      <td>0.223522</td>\n",
       "      <td>0.214905</td>\n",
       "      <td>0.097240</td>\n",
       "      <td>0.274462</td>\n",
       "      <td>-0.036270</td>\n",
       "      <td>0.313918</td>\n",
       "      <td>-0.255097</td>\n",
       "      <td>-0.299493</td>\n",
       "      <td>-0.010555</td>\n",
       "      <td>0.218017</td>\n",
       "      <td>1.000000</td>\n",
       "      <td>-0.256250</td>\n",
       "      <td>0.071754</td>\n",
       "      <td>0.371202</td>\n",
       "    </tr>\n",
       "    <tr>\n",
       "      <th>duration_ms</th>\n",
       "      <td>-0.232621</td>\n",
       "      <td>-0.134527</td>\n",
       "      <td>0.054522</td>\n",
       "      <td>-0.206334</td>\n",
       "      <td>-0.060965</td>\n",
       "      <td>-0.388397</td>\n",
       "      <td>0.138793</td>\n",
       "      <td>0.249683</td>\n",
       "      <td>-0.143966</td>\n",
       "      <td>-0.114842</td>\n",
       "      <td>-0.256250</td>\n",
       "      <td>1.000000</td>\n",
       "      <td>-0.039078</td>\n",
       "      <td>-0.490651</td>\n",
       "    </tr>\n",
       "    <tr>\n",
       "      <th>time_signature</th>\n",
       "      <td>0.317096</td>\n",
       "      <td>0.123942</td>\n",
       "      <td>0.048344</td>\n",
       "      <td>0.207806</td>\n",
       "      <td>-0.110739</td>\n",
       "      <td>0.140325</td>\n",
       "      <td>-0.142177</td>\n",
       "      <td>-0.375199</td>\n",
       "      <td>-0.135409</td>\n",
       "      <td>0.201111</td>\n",
       "      <td>0.071754</td>\n",
       "      <td>-0.039078</td>\n",
       "      <td>1.000000</td>\n",
       "      <td>0.221479</td>\n",
       "    </tr>\n",
       "    <tr>\n",
       "      <th>liked</th>\n",
       "      <td>0.569425</td>\n",
       "      <td>0.176179</td>\n",
       "      <td>-0.044406</td>\n",
       "      <td>0.410774</td>\n",
       "      <td>0.023747</td>\n",
       "      <td>0.591505</td>\n",
       "      <td>-0.179375</td>\n",
       "      <td>-0.569440</td>\n",
       "      <td>-0.009797</td>\n",
       "      <td>0.268653</td>\n",
       "      <td>0.371202</td>\n",
       "      <td>-0.490651</td>\n",
       "      <td>0.221479</td>\n",
       "      <td>1.000000</td>\n",
       "    </tr>\n",
       "  </tbody>\n",
       "</table>\n",
       "</div>"
      ],
      "text/plain": [
       "                  danceability    energy       key  loudness      mode  \\\n",
       "danceability          1.000000  0.137188 -0.063906  0.455078  0.043759   \n",
       "energy                0.137188  1.000000  0.130251  0.813567 -0.068308   \n",
       "key                  -0.063906  0.130251  1.000000  0.046865 -0.103371   \n",
       "loudness              0.455078  0.813567  0.046865  1.000000 -0.041678   \n",
       "mode                  0.043759 -0.068308 -0.103371 -0.041678  1.000000   \n",
       "speechiness           0.388596  0.122825 -0.093395  0.279710  0.031953   \n",
       "acousticness         -0.234176 -0.772583 -0.066844 -0.664989 -0.025709   \n",
       "instrumentalness     -0.807053 -0.241444  0.003597 -0.538266  0.075442   \n",
       "liveness             -0.137069  0.166508 -0.039622  0.078093 -0.048661   \n",
       "valence               0.612344  0.319409  0.033336  0.363532  0.033409   \n",
       "tempo                 0.223522  0.214905  0.097240  0.274462 -0.036270   \n",
       "duration_ms          -0.232621 -0.134527  0.054522 -0.206334 -0.060965   \n",
       "time_signature        0.317096  0.123942  0.048344  0.207806 -0.110739   \n",
       "liked                 0.569425  0.176179 -0.044406  0.410774  0.023747   \n",
       "\n",
       "                  speechiness  acousticness  instrumentalness  liveness  \\\n",
       "danceability         0.388596     -0.234176         -0.807053 -0.137069   \n",
       "energy               0.122825     -0.772583         -0.241444  0.166508   \n",
       "key                 -0.093395     -0.066844          0.003597 -0.039622   \n",
       "loudness             0.279710     -0.664989         -0.538266  0.078093   \n",
       "mode                 0.031953     -0.025709          0.075442 -0.048661   \n",
       "speechiness          1.000000     -0.079710         -0.343242 -0.006665   \n",
       "acousticness        -0.079710      1.000000          0.294320 -0.140988   \n",
       "instrumentalness    -0.343242      0.294320          1.000000  0.055730   \n",
       "liveness            -0.006665     -0.140988          0.055730  1.000000   \n",
       "valence              0.180708     -0.313806         -0.572224 -0.013004   \n",
       "tempo                0.313918     -0.255097         -0.299493 -0.010555   \n",
       "duration_ms         -0.388397      0.138793          0.249683 -0.143966   \n",
       "time_signature       0.140325     -0.142177         -0.375199 -0.135409   \n",
       "liked                0.591505     -0.179375         -0.569440 -0.009797   \n",
       "\n",
       "                   valence     tempo  duration_ms  time_signature     liked  \n",
       "danceability      0.612344  0.223522    -0.232621        0.317096  0.569425  \n",
       "energy            0.319409  0.214905    -0.134527        0.123942  0.176179  \n",
       "key               0.033336  0.097240     0.054522        0.048344 -0.044406  \n",
       "loudness          0.363532  0.274462    -0.206334        0.207806  0.410774  \n",
       "mode              0.033409 -0.036270    -0.060965       -0.110739  0.023747  \n",
       "speechiness       0.180708  0.313918    -0.388397        0.140325  0.591505  \n",
       "acousticness     -0.313806 -0.255097     0.138793       -0.142177 -0.179375  \n",
       "instrumentalness -0.572224 -0.299493     0.249683       -0.375199 -0.569440  \n",
       "liveness         -0.013004 -0.010555    -0.143966       -0.135409 -0.009797  \n",
       "valence           1.000000  0.218017    -0.114842        0.201111  0.268653  \n",
       "tempo             0.218017  1.000000    -0.256250        0.071754  0.371202  \n",
       "duration_ms      -0.114842 -0.256250     1.000000       -0.039078 -0.490651  \n",
       "time_signature    0.201111  0.071754    -0.039078        1.000000  0.221479  \n",
       "liked             0.268653  0.371202    -0.490651        0.221479  1.000000  "
      ]
     },
     "execution_count": 68,
     "metadata": {},
     "output_type": "execute_result"
    }
   ],
   "source": [
    "df.corr()"
   ]
  },
  {
   "cell_type": "markdown",
   "metadata": {},
   "source": [
    "liked songs are negatively correlated with time duration, hence user likes listening to short songs more.\n",
    "\n",
    "Liked songs are positively correlated with danceability, loudness and speechiness.\n",
    "\n",
    "Instrumentalness and danceability are highly negatively correlated"
   ]
  },
  {
   "cell_type": "code",
   "execution_count": 69,
   "metadata": {},
   "outputs": [
    {
     "data": {
      "image/png": "[encoded data removed]",
      "text/plain": [
       "<Figure size 360x360 with 1 Axes>"
      ]
     },
     "metadata": {
      "needs_background": "light"
     },
     "output_type": "display_data"
    }
   ],
   "source": [
    "import seaborn as sns\n",
    "plt.figure(figsize=(5,5))\n",
    "sns.regplot(x=df[\"liked\"] , y=df[\"duration_ms\"] )\n",
    "plt.title(\"liked songs and duration\")\n",
    "plt.show()"
   ]
  },
  {
   "cell_type": "code",
   "execution_count": 129,
   "metadata": {},
   "outputs": [
    {
     "data": {
      "image/png": "[encoded data removed]",
      "text/plain": [
       "<Figure size 720x720 with 1 Axes>"
      ]
     },
     "metadata": {
      "needs_background": "light"
     },
     "output_type": "display_data"
    }
   ],
   "source": [
    "\n",
    "fig, ax = plt.subplots(figsize=(10,10))\n",
    "plt.hist(df[\"duration_ms\"], edgecolor=\"k\") # output a histogram plot\n",
    "plt.xlabel('duration of songs')\n",
    "plt.ylabel('Number of Songs')\n",
    "plt.title('Number of Songs per duration')\n",
    "plt.xticks(np.arange(min(df[\"duration_ms\"]), max(df[\"duration_ms\"])+1, 20000.0))\n",
    "plt.xticks(rotation=80)# change x labels from the defult to the given range\n",
    "plt.grid()\n",
    "plt.show()"
   ]
  },
  {
   "cell_type": "code",
   "execution_count": 132,
   "metadata": {},
   "outputs": [
    {
     "name": "stdout",
     "output_type": "stream",
     "text": [
      "There are  3  Songs with duration more than 400000 ms.\n"
     ]
    }
   ],
   "source": [
    "print(\"There are \" ,len(df[df[\"duration_ms\"]>400000]), \" Songs with duration more than 400000 ms.\")"
   ]
  },
  {
   "cell_type": "code",
   "execution_count": null,
   "metadata": {},
   "outputs": [
    {
     "data": {
      "image/png": "[encoded data removed]",
      "text/plain": [
       "<Figure size 720x720 with 1 Axes>"
      ]
     },
     "metadata": {},
     "output_type": "display_data"
    }
   ],
   "source": [
    "\n",
    "fig, ax = plt.subplots(figsize=(10,10))\n",
    "plt.hist(df[\"loudness\"], edgecolor=\"k\") # output a histogram plot\n",
    "plt.xlabel('duration of songs')\n",
    "plt.ylabel('Number of Songs')\n",
    "plt.title('Number of Songs per duration')\n",
    "plt.xticks(np.arange(min(df[\"loudness\"]), max(df[\"loudness\"])+1, 1))\n",
    "plt.xticks(rotation=80)# change x labels from the defult to the given range\n",
    "plt.grid()\n",
    "plt.show()"
   ]
  },
  {
   "cell_type": "code",
   "execution_count": 131,
   "metadata": {},
   "outputs": [
    {
     "data": {
      "image/png": "[encoded data removed]",
      "text/plain": [
       "<Figure size 720x720 with 1 Axes>"
      ]
     },
     "metadata": {
      "needs_background": "light"
     },
     "output_type": "display_data"
    }
   ],
   "source": [
    "\n",
    "fig, ax = plt.subplots(figsize=(10,10))\n",
    "plt.hist(df[df[\"liked\"]==1][\"duration_ms\"], edgecolor=\"k\") # output a histogram plot\n",
    "plt.xlabel('duration of songs')\n",
    "plt.ylabel('Number of liked Songs')\n",
    "plt.title('Number of  liked Songs per duration')\n",
    "plt.xticks(np.arange(min(df[\"duration_ms\"]), max(df[\"duration_ms\"])+1, 20000.0))\n",
    "plt.xticks(rotation=80)# change x labels from the defult to the given range\n",
    "plt.grid()\n",
    "plt.show()"
   ]
  },
  {
   "cell_type": "code",
   "execution_count": 141,
   "metadata": {},
   "outputs": [
    {
     "name": "stdout",
     "output_type": "stream",
     "text": [
      "There are  1  Songs with duration more than 400000 ms.\n"
     ]
    }
   ],
   "source": [
    "print(\"There are \" ,len(df[(df[\"liked\"]==1)& (df[\"duration_ms\"]>300000)]), \" Songs with duration more than 400000 ms.\")"
   ]
  },
  {
   "cell_type": "markdown",
   "metadata": {},
   "source": [
    "Liked songs by user are mostly under 250000"
   ]
  },
  {
   "cell_type": "code",
   "execution_count": 73,
   "metadata": {},
   "outputs": [
    {
     "data": {
      "image/png": "[encoded data removed]",
      "text/plain": [
       "<Figure size 720x720 with 1 Axes>"
      ]
     },
     "metadata": {
      "needs_background": "light"
     },
     "output_type": "display_data"
    }
   ],
   "source": [
    "\n",
    "\n",
    "fig, ax = plt.subplots(figsize=(10,10))\n",
    "plt.hist(df[\"danceability\"], edgecolor=\"k\") # output a histogram plot\n",
    "plt.xlabel('duration of songs')\n",
    "plt.ylabel('Number of Songs')\n",
    "plt.title('Number of Songs per danceability')\n",
    "plt.xticks(np.arange(min(df[\"danceability\"]), max(df[\"danceability\"])+1, 1))\n",
    "plt.xticks(rotation=80)# change x labels from the defult to the given range\n",
    "plt.grid()\n",
    "plt.show()"
   ]
  },
  {
   "cell_type": "markdown",
   "metadata": {},
   "source": [
    "Data is right skewed regarding danceability"
   ]
  },
  {
   "cell_type": "code",
   "execution_count": 122,
   "metadata": {},
   "outputs": [],
   "source": [
    "from sklearn.preprocessing import StandardScaler\n",
    "sc = StandardScaler()\n",
    "processed_data=pd.DataFrame(sc.fit_transform(df),columns=df.columns)"
   ]
  },
  {
   "cell_type": "code",
   "execution_count": 123,
   "metadata": {},
   "outputs": [
    {
     "data": {
      "text/html": [
       "<div>\n",
       "<style scoped>\n",
       "    .dataframe tbody tr th:only-of-type {\n",
       "        vertical-align: middle;\n",
       "    }\n",
       "\n",
       "    .dataframe tbody tr th {\n",
       "        vertical-align: top;\n",
       "    }\n",
       "\n",
       "    .dataframe thead th {\n",
       "        text-align: right;\n",
       "    }\n",
       "</style>\n",
       "<table border=\"1\" class=\"dataframe\">\n",
       "  <thead>\n",
       "    <tr style=\"text-align: right;\">\n",
       "      <th></th>\n",
       "      <th>danceability</th>\n",
       "      <th>energy</th>\n",
       "      <th>key</th>\n",
       "      <th>loudness</th>\n",
       "      <th>mode</th>\n",
       "      <th>speechiness</th>\n",
       "      <th>acousticness</th>\n",
       "      <th>instrumentalness</th>\n",
       "      <th>liveness</th>\n",
       "      <th>valence</th>\n",
       "      <th>tempo</th>\n",
       "      <th>duration_ms</th>\n",
       "      <th>time_signature</th>\n",
       "      <th>liked</th>\n",
       "    </tr>\n",
       "  </thead>\n",
       "  <tbody>\n",
       "    <tr>\n",
       "      <th>0</th>\n",
       "      <td>0.769903</td>\n",
       "      <td>-0.055628</td>\n",
       "      <td>0.441095</td>\n",
       "      <td>0.417562</td>\n",
       "      <td>-1.080123</td>\n",
       "      <td>-0.843078</td>\n",
       "      <td>0.412263</td>\n",
       "      <td>-0.554830</td>\n",
       "      <td>-0.458413</td>\n",
       "      <td>0.503237</td>\n",
       "      <td>-0.896670</td>\n",
       "      <td>1.266065</td>\n",
       "      <td>0.193658</td>\n",
       "      <td>-1.025978</td>\n",
       "    </tr>\n",
       "    <tr>\n",
       "      <th>1</th>\n",
       "      <td>0.580139</td>\n",
       "      <td>0.248888</td>\n",
       "      <td>1.321780</td>\n",
       "      <td>0.235180</td>\n",
       "      <td>-1.080123</td>\n",
       "      <td>1.307549</td>\n",
       "      <td>-0.353462</td>\n",
       "      <td>-0.556955</td>\n",
       "      <td>-0.541666</td>\n",
       "      <td>0.095009</td>\n",
       "      <td>1.079610</td>\n",
       "      <td>0.469229</td>\n",
       "      <td>0.193658</td>\n",
       "      <td>0.974679</td>\n",
       "    </tr>\n",
       "    <tr>\n",
       "      <th>2</th>\n",
       "      <td>-1.738685</td>\n",
       "      <td>-2.403485</td>\n",
       "      <td>-1.320274</td>\n",
       "      <td>-2.772810</td>\n",
       "      <td>0.925820</td>\n",
       "      <td>-0.891369</td>\n",
       "      <td>2.103110</td>\n",
       "      <td>2.040507</td>\n",
       "      <td>-0.439492</td>\n",
       "      <td>-1.705687</td>\n",
       "      <td>-1.634621</td>\n",
       "      <td>1.022384</td>\n",
       "      <td>0.193658</td>\n",
       "      <td>-1.025978</td>\n",
       "    </tr>\n",
       "    <tr>\n",
       "      <th>3</th>\n",
       "      <td>0.395003</td>\n",
       "      <td>0.376091</td>\n",
       "      <td>-0.733151</td>\n",
       "      <td>0.382222</td>\n",
       "      <td>-1.080123</td>\n",
       "      <td>-0.753156</td>\n",
       "      <td>0.349755</td>\n",
       "      <td>-0.556952</td>\n",
       "      <td>-0.240821</td>\n",
       "      <td>0.330957</td>\n",
       "      <td>-1.114714</td>\n",
       "      <td>-0.062375</td>\n",
       "      <td>0.193658</td>\n",
       "      <td>0.974679</td>\n",
       "    </tr>\n",
       "    <tr>\n",
       "      <th>4</th>\n",
       "      <td>0.695849</td>\n",
       "      <td>-0.256069</td>\n",
       "      <td>-1.320274</td>\n",
       "      <td>0.302018</td>\n",
       "      <td>0.925820</td>\n",
       "      <td>0.608158</td>\n",
       "      <td>-0.544112</td>\n",
       "      <td>-0.556955</td>\n",
       "      <td>-0.692088</td>\n",
       "      <td>0.574396</td>\n",
       "      <td>1.214835</td>\n",
       "      <td>-0.472381</td>\n",
       "      <td>0.193658</td>\n",
       "      <td>0.974679</td>\n",
       "    </tr>\n",
       "  </tbody>\n",
       "</table>\n",
       "</div>"
      ],
      "text/plain": [
       "   danceability    energy       key  loudness      mode  speechiness  \\\n",
       "0      0.769903 -0.055628  0.441095  0.417562 -1.080123    -0.843078   \n",
       "1      0.580139  0.248888  1.321780  0.235180 -1.080123     1.307549   \n",
       "2     -1.738685 -2.403485 -1.320274 -2.772810  0.925820    -0.891369   \n",
       "3      0.395003  0.376091 -0.733151  0.382222 -1.080123    -0.753156   \n",
       "4      0.695849 -0.256069 -1.320274  0.302018  0.925820     0.608158   \n",
       "\n",
       "   acousticness  instrumentalness  liveness   valence     tempo  duration_ms  \\\n",
       "0      0.412263         -0.554830 -0.458413  0.503237 -0.896670     1.266065   \n",
       "1     -0.353462         -0.556955 -0.541666  0.095009  1.079610     0.469229   \n",
       "2      2.103110          2.040507 -0.439492 -1.705687 -1.634621     1.022384   \n",
       "3      0.349755         -0.556952 -0.240821  0.330957 -1.114714    -0.062375   \n",
       "4     -0.544112         -0.556955 -0.692088  0.574396  1.214835    -0.472381   \n",
       "\n",
       "   time_signature     liked  \n",
       "0        0.193658 -1.025978  \n",
       "1        0.193658  0.974679  \n",
       "2        0.193658 -1.025978  \n",
       "3        0.193658  0.974679  \n",
       "4        0.193658  0.974679  "
      ]
     },
     "execution_count": 123,
     "metadata": {},
     "output_type": "execute_result"
    }
   ],
   "source": [
    "processed_data.head()"
   ]
  },
  {
   "cell_type": "code",
   "execution_count": 124,
   "metadata": {},
   "outputs": [
    {
     "data": {
      "text/plain": [
       "((97, 13), (97,))"
      ]
     },
     "execution_count": 124,
     "metadata": {},
     "output_type": "execute_result"
    }
   ],
   "source": [
    "from sklearn.model_selection import train_test_split\n",
    "x = processed_data.drop('liked',axis=1)\n",
    "y = df.liked\n",
    "x_train,x_test,y_train,y_test = train_test_split(x,y,test_size=0.5)\n",
    "x_val,x_test,y_val,y_test =train_test_split(x,y,test_size=0.2)\n",
    "x_train.shape,y_train.shape"
   ]
  },
  {
   "cell_type": "code",
   "execution_count": 125,
   "metadata": {},
   "outputs": [],
   "source": [
    "from sklearn.linear_model import LogisticRegression\n",
    "clf = LogisticRegression()\n",
    "lr_clf=clf.fit(x_train,y_train)"
   ]
  },
  {
   "cell_type": "code",
   "execution_count": 145,
   "metadata": {},
   "outputs": [
    {
     "name": "stdout",
     "output_type": "stream",
     "text": [
      "0.9381443298969072 0.9102564102564102\n"
     ]
    }
   ],
   "source": [
    "from sklearn.metrics import accuracy_score\n",
    "lr_pred_tr=lr_clf.predict(x_train)\n",
    "lr_pred_val = lr_clf.predict(x_val)\n",
    "print(accuracy_score(y_train,lr_pred_tr),accuracy_score(y_val,lr_pred_val))"
   ]
  },
  {
   "cell_type": "markdown",
   "metadata": {},
   "source": [
    "As accuracy is a good evaluation matrix for this data since the data \n",
    "is balanced between liked and not liked, we used accuracy score to test the Model and it returned a good accuracy score of 90% for train and validation data which means this model is good enough "
   ]
  },
  {
   "cell_type": "code",
   "execution_count": 146,
   "metadata": {},
   "outputs": [
    {
     "name": "stdout",
     "output_type": "stream",
     "text": [
      "              precision    recall  f1-score   support\n",
      "\n",
      "           0       0.88      0.95      0.91        75\n",
      "           1       0.95      0.88      0.91        81\n",
      "\n",
      "    accuracy                           0.91       156\n",
      "   macro avg       0.91      0.91      0.91       156\n",
      "weighted avg       0.91      0.91      0.91       156\n",
      "\n"
     ]
    }
   ],
   "source": [
    "from sklearn.metrics import classification_report\n",
    "print(metrics.classification_report(y_val,lr_pred_val))"
   ]
  }
 ],
 "metadata": {
  "interpreter": {
   "hash": "d7288e82646d3164eca24130947288f8779d11454649f2c02a5dfc42af7f324c"
  },
  "kernelspec": {
   "display_name": "Python 3.9.7 ('base')",
   "language": "python",
   "name": "python3"
  },
  "language_info": {
   "codemirror_mode": {
    "name": "ipython",
    "version": 3
   },
   "file_extension": ".py",
   "mimetype": "text/x-python",
   "name": "python",
   "nbconvert_exporter": "python",
   "pygments_lexer": "ipython3",
   "version": "3.9.7"
  },
  "orig_nbformat": 4
 },
 "nbformat": 4,
 "nbformat_minor": 2
}
